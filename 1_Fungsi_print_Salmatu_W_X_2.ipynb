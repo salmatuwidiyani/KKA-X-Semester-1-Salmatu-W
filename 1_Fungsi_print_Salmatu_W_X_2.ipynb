{
  "nbformat": 4,
  "nbformat_minor": 0,
  "metadata": {
    "colab": {
      "provenance": [],
      "authorship_tag": "ABX9TyNZWzQ9R9OKdiSan5HrcZoD",
      "include_colab_link": true
    },
    "kernelspec": {
      "name": "python3",
      "display_name": "Python 3"
    },
    "language_info": {
      "name": "python"
    }
  },
  "cells": [
    {
      "cell_type": "markdown",
      "metadata": {
        "id": "view-in-github",
        "colab_type": "text"
      },
      "source": [
        "<a href=\"https://colab.research.google.com/github/salmatuwidiyani/KKA-X-Semester-1-Salmatu-W/blob/main/1_Fungsi_print_Salmatu_W_X_2.ipynb\" target=\"_parent\"><img src=\"https://colab.research.google.com/assets/colab-badge.svg\" alt=\"Open In Colab\"/></a>"
      ]
    },
    {
      "cell_type": "markdown",
      "source": [
        "Nama:Salmatu Wi'diyani\n",
        "\n",
        "Kelas:X.2\n",
        "\n",
        "Nomor absen:32"
      ],
      "metadata": {
        "id": "pBDJLKjotqBQ"
      }
    },
    {
      "cell_type": "markdown",
      "source": [
        "#Menampilkan Teks Bebas"
      ],
      "metadata": {
        "id": "hN7eieMNum-K"
      }
    },
    {
      "cell_type": "code",
      "execution_count": null,
      "metadata": {
        "colab": {
          "base_uri": "https://localhost:8080/"
        },
        "id": "Q2w6A7MbtHLn",
        "outputId": "3289b3cf-494c-4580-d472-973b561c6497"
      },
      "outputs": [
        {
          "output_type": "stream",
          "name": "stdout",
          "text": [
            "Halo world!\n"
          ]
        }
      ],
      "source": [
        "print(\"Halo world!\")"
      ]
    },
    {
      "cell_type": "code",
      "source": [
        "print(\"Salmatu Wi'diyani\")"
      ],
      "metadata": {
        "colab": {
          "base_uri": "https://localhost:8080/"
        },
        "id": "jFO6aBOUwc54",
        "outputId": "3c68392e-eb09-4d5e-fe77-365ff3e62864"
      },
      "execution_count": null,
      "outputs": [
        {
          "output_type": "stream",
          "name": "stdout",
          "text": [
            "Salmatu Wi'diyani\n"
          ]
        }
      ]
    },
    {
      "cell_type": "markdown",
      "source": [
        "#Menampilkan Nilai Variabel"
      ],
      "metadata": {
        "id": "Zzu6_yVJw1HY"
      }
    },
    {
      "cell_type": "code",
      "source": [
        "berat_badan=44\n",
        "\n",
        "print(berat_badan)"
      ],
      "metadata": {
        "colab": {
          "base_uri": "https://localhost:8080/"
        },
        "id": "_ghPNl3KxGqC",
        "outputId": "00534256-387e-4c16-b845-e0e58306afbb"
      },
      "execution_count": null,
      "outputs": [
        {
          "output_type": "stream",
          "name": "stdout",
          "text": [
            "44\n"
          ]
        }
      ]
    },
    {
      "cell_type": "code",
      "source": [
        "Nama=\"Salmatu Wi'diyani\"\n",
        "\n",
        "print(Nama)"
      ],
      "metadata": {
        "colab": {
          "base_uri": "https://localhost:8080/"
        },
        "id": "iRtBH22LxyKK",
        "outputId": "8a13523e-792e-4c98-fc5a-f1a47b82c214"
      },
      "execution_count": null,
      "outputs": [
        {
          "output_type": "stream",
          "name": "stdout",
          "text": [
            "Salmatu Wi'diyani\n"
          ]
        }
      ]
    },
    {
      "cell_type": "code",
      "source": [
        "Usia=15\n",
        "\n",
        "print(Usia)"
      ],
      "metadata": {
        "colab": {
          "base_uri": "https://localhost:8080/"
        },
        "id": "37rWpbrByLyt",
        "outputId": "0dff015f-a786-4f41-f70b-7d199bdf7d68"
      },
      "execution_count": null,
      "outputs": [
        {
          "output_type": "stream",
          "name": "stdout",
          "text": [
            "15\n"
          ]
        }
      ]
    },
    {
      "cell_type": "markdown",
      "source": [
        "#Menampilkan Teks Bebas dan Nilai Variabel"
      ],
      "metadata": {
        "id": "xVTmqL2jyq87"
      }
    },
    {
      "cell_type": "code",
      "source": [
        "print(\"Berat badan saya adalah\", berat_badan, \"kg\")"
      ],
      "metadata": {
        "colab": {
          "base_uri": "https://localhost:8080/"
        },
        "id": "uNu9Jrg3zCvi",
        "outputId": "38ab90c8-ee93-4c54-a87c-eebea370c50f"
      },
      "execution_count": null,
      "outputs": [
        {
          "output_type": "stream",
          "name": "stdout",
          "text": [
            "Berat badan saya adalah 44 kg\n"
          ]
        }
      ]
    },
    {
      "cell_type": "code",
      "source": [
        "print(\"Perkenalkan nama saya\", Nama, \".\")"
      ],
      "metadata": {
        "colab": {
          "base_uri": "https://localhost:8080/"
        },
        "id": "RDDHluiazm6J",
        "outputId": "312a1843-1445-4d21-b7be-aebc58dc083b"
      },
      "execution_count": null,
      "outputs": [
        {
          "output_type": "stream",
          "name": "stdout",
          "text": [
            "Perkenalkan nama saya Salmatu Wi'diyani .\n"
          ]
        }
      ]
    },
    {
      "cell_type": "code",
      "source": [
        "print(\"Perkenalkan nama saya, \" + Nama + \".\")"
      ],
      "metadata": {
        "colab": {
          "base_uri": "https://localhost:8080/"
        },
        "id": "P27-FK2W0n1A",
        "outputId": "ebe97647-2cbe-4e4a-fa88-ebf50b57b6a9"
      },
      "execution_count": null,
      "outputs": [
        {
          "output_type": "stream",
          "name": "stdout",
          "text": [
            "Perkenalkan nama saya, Salmatu Wi'diyani.\n"
          ]
        }
      ]
    },
    {
      "cell_type": "code",
      "source": [
        "print(\"Berat badan saya adalah \" + str(berat_badan) + \"kg.\")"
      ],
      "metadata": {
        "colab": {
          "base_uri": "https://localhost:8080/"
        },
        "id": "fkS1oauy1ztE",
        "outputId": "c6a68449-605c-4e61-ac6a-f2c0a46e6586"
      },
      "execution_count": null,
      "outputs": [
        {
          "output_type": "stream",
          "name": "stdout",
          "text": [
            "Berat badan saya adalah 44kg.\n"
          ]
        }
      ]
    },
    {
      "cell_type": "code",
      "source": [
        "print(f\"Perkenalkan nama saya {Nama}.\")"
      ],
      "metadata": {
        "colab": {
          "base_uri": "https://localhost:8080/"
        },
        "id": "QXGQ3tsi27Gr",
        "outputId": "14e45dd6-49a5-46ba-d811-9ae506f66b66"
      },
      "execution_count": null,
      "outputs": [
        {
          "output_type": "stream",
          "name": "stdout",
          "text": [
            "Perkenalkan nama saya Salmatu Wi'diyani.\n"
          ]
        }
      ]
    },
    {
      "cell_type": "code",
      "source": [
        "print(f\"Berat badan saya {berat_badan}kg.\")"
      ],
      "metadata": {
        "colab": {
          "base_uri": "https://localhost:8080/"
        },
        "id": "pz7xmsH43Or7",
        "outputId": "2e09b396-61b8-4fde-f084-26a36f73f466"
      },
      "execution_count": null,
      "outputs": [
        {
          "output_type": "stream",
          "name": "stdout",
          "text": [
            "Berat badan saya 44kg.\n"
          ]
        }
      ]
    },
    {
      "cell_type": "markdown",
      "source": [
        "#Escape Character"
      ],
      "metadata": {
        "id": "vbsgkh6P2K6V"
      }
    },
    {
      "cell_type": "code",
      "source": [
        "print(\"Nama:Salmatu Wi'diyani\\nKelas:X.2\\nNo.Absen:32\")"
      ],
      "metadata": {
        "colab": {
          "base_uri": "https://localhost:8080/"
        },
        "id": "wxjqpd0622VX",
        "outputId": "822c55ac-3c16-4a14-d965-41d5f4662e58"
      },
      "execution_count": null,
      "outputs": [
        {
          "output_type": "stream",
          "name": "stdout",
          "text": [
            "Nama:Salmatu Wi'diyani\n",
            "Kelas:X.2\n",
            "No.Absen:32\n"
          ]
        }
      ]
    },
    {
      "cell_type": "code",
      "source": [
        "print(\"Nama:Salmatu Wi'diyani\")\n",
        "print(\"Kelas:X.2\")\n",
        "print(\"No.Absen:32\")"
      ],
      "metadata": {
        "colab": {
          "base_uri": "https://localhost:8080/"
        },
        "id": "y72cXU2T3IkQ",
        "outputId": "92da38a9-481f-479b-d26d-56ecfdfeb226"
      },
      "execution_count": null,
      "outputs": [
        {
          "output_type": "stream",
          "name": "stdout",
          "text": [
            "Nama:Salmatu Wi'diyani\n",
            "Kelas:X.2\n",
            "No.Absen:32\n"
          ]
        }
      ]
    },
    {
      "cell_type": "code",
      "source": [
        "print(\"\"\"Nama:Salmatu Wi'diyani\n",
        "Kelas:X.2\n",
        "No.Absen:32\"\"\")"
      ],
      "metadata": {
        "colab": {
          "base_uri": "https://localhost:8080/"
        },
        "id": "gNgQ6SdT3cuj",
        "outputId": "1df2a5ad-59eb-466b-fe00-3c3d5ba6c8b5"
      },
      "execution_count": null,
      "outputs": [
        {
          "output_type": "stream",
          "name": "stdout",
          "text": [
            "Nama:Salmatu Wi'diyani\n",
            "Kelas:X.2 \n",
            "No.Absen:32\n"
          ]
        }
      ]
    },
    {
      "cell_type": "code",
      "source": [
        "print(\"Nama\\t\\t:Salmatu Wi'diyani\\nKelas\\t\\t:X.2\\nNo.Absen\\t:32\")"
      ],
      "metadata": {
        "colab": {
          "base_uri": "https://localhost:8080/"
        },
        "id": "HwgSM5WZ6b3c",
        "outputId": "7cd34fa9-e2c9-45db-ab54-7564a7dad5bd"
      },
      "execution_count": null,
      "outputs": [
        {
          "output_type": "stream",
          "name": "stdout",
          "text": [
            "Nama\t\t:Salmatu Wi'diyani\n",
            "Kelas\t\t:X.2\n",
            "No.Absen\t:32\n"
          ]
        }
      ]
    },
    {
      "cell_type": "code",
      "source": [
        "print('Nama\\t\\t:Salmatu Wi\\'diyani\\nKelas\\t\\t:X.2\\nNo.Absen\\t:32')"
      ],
      "metadata": {
        "id": "-hWZyEwi6PCa",
        "colab": {
          "base_uri": "https://localhost:8080/"
        },
        "outputId": "62a7f483-60f5-4d41-a622-f867476305a6"
      },
      "execution_count": null,
      "outputs": [
        {
          "output_type": "stream",
          "name": "stdout",
          "text": [
            "Nama\t\t:Salmatu Wi'diyani\n",
            "Kelas\t\t:X.2\n",
            "No.Absen\t:32\n"
          ]
        }
      ]
    },
    {
      "cell_type": "code",
      "source": [
        "print(\"Nama\\t\\t:Salmatu Wi'diyani\\nKelas\\t\\t:X.2\\nNo.Absen\\t:32\")"
      ],
      "metadata": {
        "colab": {
          "base_uri": "https://localhost:8080/"
        },
        "id": "Rg1yLUnF7KC-",
        "outputId": "ffba55ca-58ae-485f-f866-0522c53f1c3a"
      },
      "execution_count": null,
      "outputs": [
        {
          "output_type": "stream",
          "name": "stdout",
          "text": [
            "Nama\t\t:Salmatu Wi'diyani\n",
            "Kelas\t\t:X.2\n",
            "No.Absen\t:32\n"
          ]
        }
      ]
    },
    {
      "cell_type": "code",
      "source": [
        "print('Saya mengatakan \"Semua bisa dipelajari\"')"
      ],
      "metadata": {
        "colab": {
          "base_uri": "https://localhost:8080/"
        },
        "id": "9GmbmCR86rSz",
        "outputId": "fd1c35e7-6eb4-4843-c354-c35b49ce4a93"
      },
      "execution_count": null,
      "outputs": [
        {
          "output_type": "stream",
          "name": "stdout",
          "text": [
            "Saya mengatakan \"Semua bisa dipelajari\"\n"
          ]
        }
      ]
    },
    {
      "cell_type": "code",
      "source": [
        "print(\"Jadwal Pelajaran Kelas X.2 - MAN Demak 2025/2026\")\n",
        "print(\"================================================\\n\")\n",
        "\n",
        "print(\"Jam\\tSenin\\t\\tSelasa\\t\\tRabu\\t\\tKamis\\t\\tJumat\\t\\tSabtu\")\n",
        "\n",
        "print(\"Jam 1\\tMat Wajib\\tB. Arab\\t\\tB. Jawa\\t\\tFisika\\t\\tMat Wajib\\tBiologi\")\n",
        "print(\"Jam 2\\tMat Wajib\\tB. Arab\\t\\tB. Jawa\\t\\tFisika\\t\\tMat Wajib\\tBiologi\")\n",
        "print(\"Jam 3\\tB. Indo\\t\\tPJOK\\t\\tFikih\\t\\tSejarah\\t\\tPend. Pancasila\\tEkonomi\")\n",
        "print(\"Jam 4\\tB. Indo\\t\\tPJOK\\t\\tFikih\\t\\tSejarah\\t\\tPend. Pancasila\\tEkonomi\")\n",
        "print(\"Jam 5\\tB. Arab\\t\\tB. Indo\\t\\tKimia\\t\\tBiologi\\t\\tSeni Musik\\tSKI\")\n",
        "print(\"Jam 6\\tB. Arab\\t\\tB. Indo\\t\\tKimia\\t\\tGeografi\\t-\\t\\tSKI\")\n",
        "print(\"Jam 7\\tB. Inggris\\tAkidah A.\\tSeni Musik\\tGeografi\\t-\\t\\tQur\\'an Hadist\")\n",
        "print(\"Jam 8\\tB. Inggris\\tAkidah A.\\tPKWU\\t\\tSosiologi\\t-\\t\\tQur\\'an Hadist\")\n",
        "print(\"Jam 9\\tB. Inggris\\tBK\\t\\tPKWU\\t\\tSosiologi\\t-\\t\\tKKA\")\n",
        "print(\"Jam 10\\t-\\t\\t-\\t\\t-\\t\\t-\\t\\t-\\t\\tKKA\")"
      ],
      "metadata": {
        "id": "dnA0IL3z1q22",
        "outputId": "63e59ac2-4dc0-4f1b-a1a4-e2e3cf1c7a9e",
        "colab": {
          "base_uri": "https://localhost:8080/"
        }
      },
      "execution_count": null,
      "outputs": [
        {
          "output_type": "stream",
          "name": "stdout",
          "text": [
            "Jadwal Pelajaran Kelas X.2 - MAN Demak 2025/2026\n",
            "================================================\n",
            "\n",
            "Jam\tSenin\t\tSelasa\t\tRabu\t\tKamis\t\tJumat\t\tSabtu\n",
            "Jam 1\tMat Wajib\tB. Arab\t\tB. Jawa\t\tFisika\t\tMat Wajib\tBiologi\n",
            "Jam 2\tMat Wajib\tB. Arab\t\tB. Jawa\t\tFisika\t\tMat Wajib\tBiologi\n",
            "Jam 3\tB. Indo\t\tPJOK\t\tFikih\t\tSejarah\t\tPend. Pancasila\tEkonomi\n",
            "Jam 4\tB. Indo\t\tPJOK\t\tFikih\t\tSejarah\t\tPend. Pancasila\tEkonomi\n",
            "Jam 5\tB. Arab\t\tB. Indo\t\tKimia\t\tBiologi\t\tSeni Musik\tSKI\n",
            "Jam 6\tB. Arab\t\tB. Indo\t\tKimia\t\tGeografi\t-\t\tSKI\n",
            "Jam 7\tB. Inggris\tAkidah A.\tSeni Musik\tGeografi\t-\t\tQur'an Hadist\n",
            "Jam 8\tB. Inggris\tAkidah A.\tPKWU\t\tSosiologi\t-\t\tQur'an Hadist\n",
            "Jam 9\tB. Inggris\tBK\t\tPKWU\t\tSosiologi\t-\t\tKKA\n",
            "Jam 10\t-\t\t-\t\t-\t\t-\t\t-\t\tKKA\n"
          ]
        }
      ]
    },
    {
      "cell_type": "code",
      "source": [
        "nama_siswa_1 = \"jielo\"\n",
        "nama_siswa_2 = \"aida\"\n",
        "nama_siswa_3 = \"dani\"\n",
        "nama_siswa_4 = \"nurul\"\n",
        "\n",
        "print(nama_siswa_4, end=\"/\")\n",
        "print(nama_siswa_2, end=\"/\")\n",
        "print(nama_siswa_1, end=\"/\")\n",
        "print(nama_siswa_3)"
      ],
      "metadata": {
        "colab": {
          "base_uri": "https://localhost:8080/"
        },
        "id": "Tn4slG6PFfVV",
        "outputId": "e1a3431d-9e19-4ebb-cd77-a81870c36719"
      },
      "execution_count": null,
      "outputs": [
        {
          "output_type": "stream",
          "name": "stdout",
          "text": [
            "nurul/aida/jielo/dani\n"
          ]
        }
      ]
    },
    {
      "cell_type": "code",
      "source": [
        "nama_siswa_5 = \"hasbi\"\n",
        "nama_siswa_6 = \"habibi\"\n",
        "nama_siswa_7 = \"rendra\"\n",
        "nama_siswa_8 = \"nauval\"\n",
        "\n",
        "print(nama_siswa_5,nama_siswa_8,nama_siswa_7,nama_siswa_6,nama_siswa_8, sep=\"*\")"
      ],
      "metadata": {
        "colab": {
          "base_uri": "https://localhost:8080/"
        },
        "id": "elzkNEiFFlsu",
        "outputId": "578d3951-ccf9-49fe-d587-7e5227d4c6b3"
      },
      "execution_count": null,
      "outputs": [
        {
          "output_type": "stream",
          "name": "stdout",
          "text": [
            "hasbi*nauval*rendra*habibi*nauval\n"
          ]
        }
      ]
    },
    {
      "cell_type": "code",
      "source": [
        "print('bu shinta berkata,\"Berikut adalah piket harian kelas x.2 yang di simpan di file D:\\\\MAN Demak\\\\Jadwal Piket.\"\\nSENIN\\tSELAS\\tRABU\\nJielo\\tHasbi\\tNaufal\\nAzam\\tAida\\tNurul')"
      ],
      "metadata": {
        "id": "k69uPnQ3FqG7",
        "outputId": "260451f0-db59-48f6-b755-4756f103f748",
        "colab": {
          "base_uri": "https://localhost:8080/"
        }
      },
      "execution_count": null,
      "outputs": [
        {
          "output_type": "stream",
          "name": "stdout",
          "text": [
            "bu shinta berkata,\"Berikut adalah piket harian kelas x.2 yang di simpan di file D:\\MAN Demak\\Jadwal Piket.\"\n",
            "SENIN\tSELAS\tRABU\n",
            "Jielo\tHasbi\tNaufal\n",
            "Azam\tAida\tNurul\n"
          ]
        }
      ]
    }
  ]
}